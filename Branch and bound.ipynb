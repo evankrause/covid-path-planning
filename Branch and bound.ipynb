{
 "cells": [
  {
   "cell_type": "code",
   "execution_count": 7,
   "metadata": {},
   "outputs": [],
   "source": [
    "import numpy as np\n",
    "import geopandas as gpd\n",
    "from shapely.geometry import box\n",
    "from room import Room"
   ]
  },
  {
   "cell_type": "code",
   "execution_count": 4,
   "metadata": {},
   "outputs": [],
   "source": [
    "rect = box(0, 0, 2, 1)\n",
    "gdf = gpd.GeoDataFrame({'name': ['rect'], 'type': ['room'], 'geometry': [rect]})"
   ]
  },
  {
   "cell_type": "code",
   "execution_count": 5,
   "metadata": {},
   "outputs": [],
   "source": [
    "height = 0.1\n",
    "min_intensity = 1"
   ]
  },
  {
   "cell_type": "code",
   "execution_count": 8,
   "metadata": {},
   "outputs": [],
   "source": [
    "room = Room(gdf,\n",
    "            guard_scale=0.8,\n",
    "            room_res=200,\n",
    "            guard_res=200)"
   ]
  },
  {
   "cell_type": "code",
   "execution_count": 152,
   "metadata": {},
   "outputs": [],
   "source": [
    "# Branch and bound algorithm: divide the rectangle up into subrectangles,\n",
    "# splitting along the longest side. Lower/upper bound the illumination\n",
    "# at each rectangle by determining illumination at the corners and taking\n",
    "# min/max illuminations.\n",
    "def box_intensities(room, weights, box):\n",
    "    minx, miny, maxx, maxy = box\n",
    "    h = height\n",
    "    intensities = np.zeros((4, room.guard_grid.shape[0]))\n",
    "    gx = room.guard_grid[:, 0]\n",
    "    gy = room.guard_grid[:, 1]\n",
    "    intensities[0] = weights / (((minx - gx) ** 2) + ((miny - gy) ** 2) + h)\n",
    "    intensities[1] = weights / (((minx - gx) ** 2) + ((maxy - gy) ** 2) + h)\n",
    "    intensities[2] = weights / (((maxx - gx) ** 2) + ((miny - gy) ** 2) + h)\n",
    "    intensities[3] = weights / (((maxx - gx) ** 2) + ((maxy - gy) ** 2) + h)\n",
    "    return intensities\n",
    "\n",
    "def illumination_lower_bound(room, weights, box):\n",
    "    return np.sum(np.min(box_intensities(room, weights, box), axis=0))\n",
    "    \n",
    "def illumination_upper_bound(room, weights, box):\n",
    "    minx, miny, maxx, maxy = box\n",
    "    distances = np.zeros(room.guard_grid.shape[0])\n",
    "    for idx, (x, y) in enumerate(room.guard_grid):\n",
    "        if minx <= x <= maxx and miny <= y <= maxy:\n",
    "            # Case: guard point within box.\n",
    "            distances[idx] = 0\n",
    "        elif minx <= x <= maxx:\n",
    "            # Case: guard point above or below box.\n",
    "            distances[idx] = min([abs(y - miny), abs(y - maxy)])**2\n",
    "        elif miny <= y <= maxy:\n",
    "            # Case: guard point to the left or right of box.\n",
    "            distances[idx] = min([abs(x - minx), abs(x - maxx)])**2\n",
    "        else:\n",
    "            distances[idx] = min([\n",
    "                (minx - x)**2 + (miny - y)**2,\n",
    "                (minx - x)**2 + (maxy - y)**2,\n",
    "                (maxx - x)**2 + (miny - y)**2,\n",
    "                (maxx - x)**2 + (maxy - y)**2,\n",
    "            ])\n",
    "    distances += height\n",
    "    return np.sum(weights / distances)\n",
    "            \n",
    "def branch_bound_rect(room, weights, max_iters=100, epsilon=1e-5):\n",
    "    rects = [room.room.bounds]\n",
    "    lbs = [illumination_lower_bound(room, weights, rects[0])]\n",
    "    ubs = [illumination_upper_bound(room, weights, rects[0])]\n",
    "    L_idx = 0\n",
    "    Q = rects[0]\n",
    "    L = lbs[0]\n",
    "    U = ubs[0]\n",
    "    \n",
    "    for i in range(max_iters):\n",
    "        print(i, U - L)\n",
    "        if U - L <= epsilon:\n",
    "            break\n",
    "        # Split Q along its longest side and replace with Q1, Q2.\n",
    "        minx, miny, maxx, maxy = Q\n",
    "        width = maxx - minx\n",
    "        height = maxy - miny\n",
    "        if width > height:\n",
    "            Q1 = (minx, miny, minx + (maxx - minx) / 2, maxy)\n",
    "            Q2 = (minx + (maxx - minx) / 2, miny, maxx, maxy)\n",
    "        else:\n",
    "            Q1 = (minx, miny, maxx, miny + (maxy - miny) / 2)\n",
    "            Q2 = (minx, miny + (maxy - miny) / 2, maxx, maxy)\n",
    "        rects[L_idx] = Q1\n",
    "        rects.append(Q2)\n",
    "        lbs[L_idx] = illumination_lower_bound(room, weights, Q1)\n",
    "        lbs.append(illumination_lower_bound(room, weights, Q2))\n",
    "        ubs[L_idx] = illumination_upper_bound(room, weights, Q1)\n",
    "        ubs.append(illumination_upper_bound(room, weights, Q2))\n",
    "        # Update bounds.\n",
    "        L_idx = np.argmin(lbs)\n",
    "        Q = rects[L_idx]\n",
    "        L = np.min(lbs)\n",
    "        U = np.min(ubs)\n",
    "    return Q, L, U"
   ]
  },
  {
   "cell_type": "code",
   "execution_count": 153,
   "metadata": {},
   "outputs": [],
   "source": [
    "random_weights = np.random.random(room.guard_grid.shape[0])"
   ]
  },
  {
   "cell_type": "code",
   "execution_count": 154,
   "metadata": {},
   "outputs": [
    {
     "name": "stdout",
     "output_type": "stream",
     "text": [
      "0 1065.064451899336\n",
      "1 744.11868475216\n",
      "2 639.5337807062734\n",
      "3 628.7143144898422\n",
      "4 344.0740196260071\n",
      "5 342.6786034982231\n",
      "6 341.0761950068785\n",
      "7 331.6273743377777\n",
      "8 221.0528724556621\n",
      "9 220.8715549000201\n",
      "10 125.10191116367582\n",
      "11 86.35899503776926\n",
      "12 49.25722619088691\n",
      "13 36.04769669036722\n",
      "14 21.597931237168723\n",
      "15 16.344219022449266\n",
      "16 10.117770652563891\n",
      "17 7.782982347499399\n",
      "18 4.898948286536012\n",
      "19 3.798439009723694\n",
      "20 2.410782841628503\n",
      "21 1.8764931612408589\n",
      "22 1.1958789474219884\n",
      "23 0.932632204254773\n",
      "24 0.5955812917911771\n",
      "25 0.46492090676062503\n",
      "26 0.2972035849571739\n",
      "27 0.2321127039331543\n",
      "28 0.1484553373189641\n",
      "29 0.1159695457424732\n",
      "30 0.0741910935974488\n",
      "31 0.057963087704877125\n",
      "32 0.03708640787220929\n",
      "33 0.028976124609386034\n",
      "34 0.018540919809225898\n",
      "35 0.014486707749995276\n",
      "36 0.009269888948480798\n",
      "37 0.0072430152683296\n",
      "38 0.0046348017446575795\n",
      "39 0.0036214229864839353\n",
      "40 0.002317365191117915\n",
      "41 0.0018106903318226841\n",
      "42 0.0011586736754054527\n",
      "43 0.0009053398756293518\n",
      "44 0.000579334607678561\n",
      "45 0.00045266861523884927\n",
      "46 0.0002896667463403446\n",
      "47 0.00022633397699678426\n",
      "48 0.00014483323380432012\n",
      "49 0.00011316690583385025\n",
      "50 7.241658207135515e-05\n",
      "51 5.6583432240131515e-05\n",
      "52 3.6208282324423635e-05\n",
      "53 2.8291710961525496e-05\n",
      "54 1.81041390021619e-05\n",
      "55 1.4145854180469541e-05\n",
      "56 9.052068946857617e-06\n"
     ]
    },
    {
     "data": {
      "text/plain": [
       "((0.0, 0.0, 2.9802322387695312e-08, 2.9802322387695312e-08),\n",
       " 106.40984154213191,\n",
       " 106.40985059420086)"
      ]
     },
     "execution_count": 154,
     "metadata": {},
     "output_type": "execute_result"
    }
   ],
   "source": [
    "branch_bound_rect(room, random_weights)"
   ]
  }
 ],
 "metadata": {
  "kernelspec": {
   "display_name": "Python 3",
   "language": "python",
   "name": "python3"
  },
  "language_info": {
   "codemirror_mode": {
    "name": "ipython",
    "version": 3
   },
   "file_extension": ".py",
   "mimetype": "text/x-python",
   "name": "python",
   "nbconvert_exporter": "python",
   "pygments_lexer": "ipython3",
   "version": "3.7.6"
  }
 },
 "nbformat": 4,
 "nbformat_minor": 4
}
